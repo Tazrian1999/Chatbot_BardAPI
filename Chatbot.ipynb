{
  "nbformat": 4,
  "nbformat_minor": 0,
  "metadata": {
    "colab": {
      "provenance": [],
      "toc_visible": true,
      "authorship_tag": "ABX9TyNJrtUKq8FEqPjZCMe5bxNW",
      "include_colab_link": true
    },
    "kernelspec": {
      "name": "python3",
      "display_name": "Python 3"
    },
    "language_info": {
      "name": "python"
    }
  },
  "cells": [
    {
      "cell_type": "markdown",
      "metadata": {
        "id": "view-in-github",
        "colab_type": "text"
      },
      "source": [
        "<a href=\"https://colab.research.google.com/github/Tazrian1999/Chatbot_BardAPI/blob/main/Chatbot.ipynb\" target=\"_parent\"><img src=\"https://colab.research.google.com/assets/colab-badge.svg\" alt=\"Open In Colab\"/></a>"
      ]
    },
    {
      "cell_type": "code",
      "source": [],
      "metadata": {
        "id": "34J6gA9OQcom"
      },
      "execution_count": null,
      "outputs": []
    },
    {
      "cell_type": "code",
      "execution_count": 1,
      "metadata": {
        "colab": {
          "base_uri": "https://localhost:8080/"
        },
        "id": "DaWeO4LtPeY0",
        "outputId": "9fa092b6-3e80-4d8c-edfb-5d2f62c6b21e"
      },
      "outputs": [
        {
          "output_type": "stream",
          "name": "stdout",
          "text": [
            "Collecting bardapi\n",
            "  Downloading bardapi-1.0.0-py3-none-any.whl.metadata (29 kB)\n",
            "Requirement already satisfied: httpx>=0.20.0 in /usr/local/lib/python3.11/dist-packages (from httpx[http2]>=0.20.0->bardapi) (0.28.1)\n",
            "Requirement already satisfied: requests in /usr/local/lib/python3.11/dist-packages (from bardapi) (2.32.3)\n",
            "Collecting colorama (from bardapi)\n",
            "  Downloading colorama-0.4.6-py2.py3-none-any.whl.metadata (17 kB)\n",
            "Collecting python-gemini-api (from bardapi)\n",
            "  Downloading python_gemini_api-2.4.12-py3-none-any.whl.metadata (38 kB)\n",
            "Requirement already satisfied: anyio in /usr/local/lib/python3.11/dist-packages (from httpx>=0.20.0->httpx[http2]>=0.20.0->bardapi) (4.9.0)\n",
            "Requirement already satisfied: certifi in /usr/local/lib/python3.11/dist-packages (from httpx>=0.20.0->httpx[http2]>=0.20.0->bardapi) (2025.4.26)\n",
            "Requirement already satisfied: httpcore==1.* in /usr/local/lib/python3.11/dist-packages (from httpx>=0.20.0->httpx[http2]>=0.20.0->bardapi) (1.0.9)\n",
            "Requirement already satisfied: idna in /usr/local/lib/python3.11/dist-packages (from httpx>=0.20.0->httpx[http2]>=0.20.0->bardapi) (3.10)\n",
            "Requirement already satisfied: h11>=0.16 in /usr/local/lib/python3.11/dist-packages (from httpcore==1.*->httpx>=0.20.0->httpx[http2]>=0.20.0->bardapi) (0.16.0)\n",
            "Requirement already satisfied: h2<5,>=3 in /usr/local/lib/python3.11/dist-packages (from httpx[http2]>=0.20.0->bardapi) (4.2.0)\n",
            "Collecting browser-cookie3 (from python-gemini-api->bardapi)\n",
            "  Downloading browser_cookie3-0.20.1-py3-none-any.whl.metadata (713 bytes)\n",
            "Collecting loguru (from python-gemini-api->bardapi)\n",
            "  Downloading loguru-0.7.3-py3-none-any.whl.metadata (22 kB)\n",
            "Requirement already satisfied: pydantic in /usr/local/lib/python3.11/dist-packages (from python-gemini-api->bardapi) (2.11.4)\n",
            "Requirement already satisfied: aiohttp in /usr/local/lib/python3.11/dist-packages (from python-gemini-api->bardapi) (3.11.15)\n",
            "Requirement already satisfied: charset-normalizer<4,>=2 in /usr/local/lib/python3.11/dist-packages (from requests->bardapi) (3.4.1)\n",
            "Requirement already satisfied: urllib3<3,>=1.21.1 in /usr/local/lib/python3.11/dist-packages (from requests->bardapi) (2.4.0)\n",
            "Requirement already satisfied: hyperframe<7,>=6.1 in /usr/local/lib/python3.11/dist-packages (from h2<5,>=3->httpx[http2]>=0.20.0->bardapi) (6.1.0)\n",
            "Requirement already satisfied: hpack<5,>=4.1 in /usr/local/lib/python3.11/dist-packages (from h2<5,>=3->httpx[http2]>=0.20.0->bardapi) (4.1.0)\n",
            "Requirement already satisfied: aiohappyeyeballs>=2.3.0 in /usr/local/lib/python3.11/dist-packages (from aiohttp->python-gemini-api->bardapi) (2.6.1)\n",
            "Requirement already satisfied: aiosignal>=1.1.2 in /usr/local/lib/python3.11/dist-packages (from aiohttp->python-gemini-api->bardapi) (1.3.2)\n",
            "Requirement already satisfied: attrs>=17.3.0 in /usr/local/lib/python3.11/dist-packages (from aiohttp->python-gemini-api->bardapi) (25.3.0)\n",
            "Requirement already satisfied: frozenlist>=1.1.1 in /usr/local/lib/python3.11/dist-packages (from aiohttp->python-gemini-api->bardapi) (1.6.0)\n",
            "Requirement already satisfied: multidict<7.0,>=4.5 in /usr/local/lib/python3.11/dist-packages (from aiohttp->python-gemini-api->bardapi) (6.4.3)\n",
            "Requirement already satisfied: propcache>=0.2.0 in /usr/local/lib/python3.11/dist-packages (from aiohttp->python-gemini-api->bardapi) (0.3.1)\n",
            "Requirement already satisfied: yarl<2.0,>=1.17.0 in /usr/local/lib/python3.11/dist-packages (from aiohttp->python-gemini-api->bardapi) (1.20.0)\n",
            "Requirement already satisfied: sniffio>=1.1 in /usr/local/lib/python3.11/dist-packages (from anyio->httpx>=0.20.0->httpx[http2]>=0.20.0->bardapi) (1.3.1)\n",
            "Requirement already satisfied: typing_extensions>=4.5 in /usr/local/lib/python3.11/dist-packages (from anyio->httpx>=0.20.0->httpx[http2]>=0.20.0->bardapi) (4.13.2)\n",
            "Collecting lz4 (from browser-cookie3->python-gemini-api->bardapi)\n",
            "  Downloading lz4-4.4.4-cp311-cp311-manylinux_2_17_x86_64.manylinux2014_x86_64.whl.metadata (3.8 kB)\n",
            "Collecting pycryptodomex (from browser-cookie3->python-gemini-api->bardapi)\n",
            "  Downloading pycryptodomex-3.22.0-cp37-abi3-manylinux_2_17_x86_64.manylinux2014_x86_64.whl.metadata (3.4 kB)\n",
            "Requirement already satisfied: jeepney in /usr/local/lib/python3.11/dist-packages (from browser-cookie3->python-gemini-api->bardapi) (0.9.0)\n",
            "Requirement already satisfied: annotated-types>=0.6.0 in /usr/local/lib/python3.11/dist-packages (from pydantic->python-gemini-api->bardapi) (0.7.0)\n",
            "Requirement already satisfied: pydantic-core==2.33.2 in /usr/local/lib/python3.11/dist-packages (from pydantic->python-gemini-api->bardapi) (2.33.2)\n",
            "Requirement already satisfied: typing-inspection>=0.4.0 in /usr/local/lib/python3.11/dist-packages (from pydantic->python-gemini-api->bardapi) (0.4.0)\n",
            "Downloading bardapi-1.0.0-py3-none-any.whl (48 kB)\n",
            "\u001b[2K   \u001b[90m━━━━━━━━━━━━━━━━━━━━━━━━━━━━━━━━━━━━━━━━\u001b[0m \u001b[32m48.5/48.5 kB\u001b[0m \u001b[31m1.8 MB/s\u001b[0m eta \u001b[36m0:00:00\u001b[0m\n",
            "\u001b[?25hDownloading colorama-0.4.6-py2.py3-none-any.whl (25 kB)\n",
            "Downloading python_gemini_api-2.4.12-py3-none-any.whl (47 kB)\n",
            "\u001b[2K   \u001b[90m━━━━━━━━━━━━━━━━━━━━━━━━━━━━━━━━━━━━━━━━\u001b[0m \u001b[32m47.3/47.3 kB\u001b[0m \u001b[31m2.2 MB/s\u001b[0m eta \u001b[36m0:00:00\u001b[0m\n",
            "\u001b[?25hDownloading browser_cookie3-0.20.1-py3-none-any.whl (17 kB)\n",
            "Downloading loguru-0.7.3-py3-none-any.whl (61 kB)\n",
            "\u001b[2K   \u001b[90m━━━━━━━━━━━━━━━━━━━━━━━━━━━━━━━━━━━━━━━━\u001b[0m \u001b[32m61.6/61.6 kB\u001b[0m \u001b[31m2.9 MB/s\u001b[0m eta \u001b[36m0:00:00\u001b[0m\n",
            "\u001b[?25hDownloading lz4-4.4.4-cp311-cp311-manylinux_2_17_x86_64.manylinux2014_x86_64.whl (1.3 MB)\n",
            "\u001b[2K   \u001b[90m━━━━━━━━━━━━━━━━━━━━━━━━━━━━━━━━━━━━━━━━\u001b[0m \u001b[32m1.3/1.3 MB\u001b[0m \u001b[31m19.4 MB/s\u001b[0m eta \u001b[36m0:00:00\u001b[0m\n",
            "\u001b[?25hDownloading pycryptodomex-3.22.0-cp37-abi3-manylinux_2_17_x86_64.manylinux2014_x86_64.whl (2.3 MB)\n",
            "\u001b[2K   \u001b[90m━━━━━━━━━━━━━━━━━━━━━━━━━━━━━━━━━━━━━━━━\u001b[0m \u001b[32m2.3/2.3 MB\u001b[0m \u001b[31m31.8 MB/s\u001b[0m eta \u001b[36m0:00:00\u001b[0m\n",
            "\u001b[?25hInstalling collected packages: pycryptodomex, lz4, loguru, colorama, browser-cookie3, python-gemini-api, bardapi\n",
            "Successfully installed bardapi-1.0.0 browser-cookie3-0.20.1 colorama-0.4.6 loguru-0.7.3 lz4-4.4.4 pycryptodomex-3.22.0 python-gemini-api-2.4.12\n"
          ]
        }
      ],
      "source": [
        "pip install bardapi"
      ]
    },
    {
      "cell_type": "code",
      "source": [
        "from bardapi import Bard\n",
        "import os\n",
        "import time\n"
      ],
      "metadata": {
        "id": "wofOguPfP_Br"
      },
      "execution_count": 2,
      "outputs": []
    },
    {
      "cell_type": "code",
      "source": [
        "os.environ['_BARD_API_KEY']= \"g.a000wghvOaw6uQRfDQuFrkwzvInzUaJLZBzzLPrFNkwyDILXBrFybm7_DEyx4ogDf33qoatqcQACgYKAZoSAQASFQHGX2MihTTUU8axnR12COzNqv9RqBoVAUF8yKr-zQkRvLkNPISTyN8PdB-U0076\""
      ],
      "metadata": {
        "id": "3vbqoxvCRtoK"
      },
      "execution_count": 4,
      "outputs": []
    },
    {
      "cell_type": "code",
      "source": [
        "input_text = \"Hi, How are you?\"\n",
        "print(Bard().get_answer(input_text)['content'])"
      ],
      "metadata": {
        "colab": {
          "base_uri": "https://localhost:8080/"
        },
        "id": "OFGHnFX4Qfw3",
        "outputId": "976b07a4-7325-414c-c727-6322043c097a"
      },
      "execution_count": 5,
      "outputs": [
        {
          "output_type": "stream",
          "name": "stdout",
          "text": [
            "Hey there! I'm doing well and feeling ready to assist. How about you? What's on your mind today?\n"
          ]
        }
      ]
    },
    {
      "cell_type": "markdown",
      "source": [
        "# Text Summerizer\n"
      ],
      "metadata": {
        "id": "KChtnJDKPfaW"
      }
    },
    {
      "cell_type": "code",
      "source": [
        "!pip install pypdf\n",
        "from pypdf import PdfReader"
      ],
      "metadata": {
        "colab": {
          "base_uri": "https://localhost:8080/"
        },
        "id": "n1Np7ztUaBHA",
        "outputId": "c278fcd3-11d3-49aa-cede-30fc6da31d3e"
      },
      "execution_count": 32,
      "outputs": [
        {
          "output_type": "stream",
          "name": "stdout",
          "text": [
            "Requirement already satisfied: pypdf in /usr/local/lib/python3.11/dist-packages (5.4.0)\n"
          ]
        }
      ]
    },
    {
      "cell_type": "code",
      "source": [
        "from google.colab import drive\n",
        "drive.mount('/content/drive')"
      ],
      "metadata": {
        "colab": {
          "base_uri": "https://localhost:8080/"
        },
        "id": "qVqzPgtvaQV0",
        "outputId": "ef45f736-d6cc-4458-aedc-7a49fb59c739"
      },
      "execution_count": 33,
      "outputs": [
        {
          "output_type": "stream",
          "name": "stdout",
          "text": [
            "Drive already mounted at /content/drive; to attempt to forcibly remount, call drive.mount(\"/content/drive\", force_remount=True).\n"
          ]
        }
      ]
    },
    {
      "cell_type": "code",
      "source": [
        "directory = '/content/drive/MyDrive/'\n",
        "filename = 'Ends-with-Us.pdf'"
      ],
      "metadata": {
        "id": "wQB2waFAcUz0"
      },
      "execution_count": 34,
      "outputs": []
    },
    {
      "cell_type": "code",
      "source": [
        "pdfFileObject = open(directory+filename, 'rb')\n",
        "pdfReader = PdfReader(pdfFileObject)\n",
        "text=[]\n",
        "summary=''\n",
        "\n",
        "for i in range(len(pdfReader.pages)):\n",
        "    pageObj = pdfReader.pages[i].extract_text()\n",
        "    if pageObj:\n",
        "        pageObj = pageObj.replace('t\\r', '')\n",
        "        pageObj = pageObj.replace('\\xa0', '')\n",
        "        text.append(pageObj)\n",
        "\n",
        "        text.append(pageObj)\n"
      ],
      "metadata": {
        "id": "OkX8wxt5dK50"
      },
      "execution_count": 38,
      "outputs": []
    },
    {
      "cell_type": "code",
      "source": [
        "def join_elements(lst, chars_per_element):\n",
        "  new_lst = []\n",
        "  for i in range(0,len(lst),chars_per_element):\n",
        "      new_lst.append(''.join(lst[i:i+chars_per_element]))\n",
        "\n",
        "  return new_lst\n",
        "\n",
        "new_text = join_elements(text,3)\n",
        "\n",
        "print(f\"Original Pages\" , len(text))\n",
        "print(f\"Compressed Pages\",len(new_text))\n",
        "\n",
        "\n"
      ],
      "metadata": {
        "colab": {
          "base_uri": "https://localhost:8080/"
        },
        "id": "VAVP7Yl4fPix",
        "outputId": "5507be1d-00f6-49fa-d115-fefb61030c01"
      },
      "execution_count": 39,
      "outputs": [
        {
          "output_type": "stream",
          "name": "stdout",
          "text": [
            "Original Pages 598\n",
            "Compressed Pages 200\n"
          ]
        }
      ]
    },
    {
      "cell_type": "code",
      "source": [
        "def get_completion(prompt):\n",
        "  response = Bard().get_answer(prompt)['content']\n",
        "  return response"
      ],
      "metadata": {
        "id": "OgdEHpoOhlUH"
      },
      "execution_count": 41,
      "outputs": []
    },
    {
      "cell_type": "code",
      "source": [
        "for i in range(len(new_text)):\n",
        "  prompt =f\"\"\"\n",
        "    Your task is to act like a Text Summerizer.\n",
        "    I'll give you text from pages of a book.You have to summerize the text\n",
        "    rom these pages in less than 100 words.\n",
        "    Text is shared below,dominated with triple backticks:\n",
        "    ```{text[i]}```\n",
        "    \"\"\"\n",
        "\n",
        "  try:\n",
        "    response = get_completion(prompt)\n",
        "  except:\n",
        "    response = get_completion(prompt)\n",
        "\n",
        "  print(response)\n",
        "  summary=summary+''+'\\n\\n'\n",
        "  time.sleep(1)\n"
      ],
      "metadata": {
        "colab": {
          "base_uri": "https://localhost:8080/",
          "height": 1000
        },
        "id": "caKxsduthy8W",
        "outputId": "f00d5087-8734-4098-83f8-2ba9f5ceb856"
      },
      "execution_count": 50,
      "outputs": [
        {
          "output_type": "stream",
          "name": "stdout",
          "text": [
            "This short text is a thank you message from Atria Books for downloading their eBook. It encourages readers to join their mailing list to receive updates on new releases, deals, bonus content, and other books from Atria Books and Simon & Schuster. It provides a link to sign up.\n",
            "This brief text is a standard message found at the beginning or end of an Atria Books eBook. It thanks the reader for downloading the book and encourages them to join their mailing list. By signing up, readers can receive updates on new releases, deals, bonus content, and other books from Atria Books and Simon & Schuster. It provides a link to sign up online.\n",
            "This dedication honors the author's father for his efforts to overcome his negative traits and thanks the mother for protecting the family by ensuring they never witnessed him at his worst.\n",
            "This dedication is a poignant and heartfelt message from the author to their parents. It acknowledges the father's struggle against his negative aspects and deeply appreciates the mother's efforts to shield the children from those difficulties. It speaks to themes of family, imperfection, and the protective love of a parent.\n",
            "Okay, I understand! Just share the text with me, and I'll provide a summary of it in under 100 words. I'm ready when you are.\n",
            "Understood. Please share the text you would like me to summarize. I'm ready!\n",
            "Lily Bloom sits on a Boston ledge, contemplating suicide, though not her own. Her thoughts drift to others and their final moments. This reflection is triggered by the disastrous eulogy she delivered twelve hours prior for her father, Andrew Bloom, the beloved mayor of Plethora, Maine. Lily, known for her past unconventional relationship, is likely facing her mother's disapproval for the eulogy.\n",
            "Lily Bloom is sitting on a ledge twelve stories above Boston, contemplating suicide, not her own, but others. This leads her to reflect on death, especially after delivering what she considers an \"epic,\" though potentially disastrous, eulogy twelve hours earlier in Plethora, Maine. The funeral was for her father, Andrew Bloom, the adored mayor. Lily then reveals herself as \"that strange girl with the erratic red hair,\" the daughter of the deceased.\n",
            "Having just delivered a eulogy and returned to Boston, the narrator sought refuge on a rooftop for fresh air and silence, escaping a noisy roommate. Despite the cold, the vast night sky offered a sense of insignificance and peace. This tranquility was abruptly broken when someone burst onto the roof. Annoyed at the interruption, the narrator hoped for female company but was disappointed to see a tall, distressed man at the ledge.\n",
            "The narrator, having just delivered a eulogy, sought refuge on a Boston rooftop for fresh air and silence, escaping a noisy roommate. Despite the cold, the vastness of the night sky offered a sense of perspective. This peaceful moment was interrupted by someone abruptly opening the rooftop door. Annoyed, the narrator hoped for female company for comfort and safety, but the figure at the ledge turned out to be a tall, broad-shouldered man holding his head in his hands.\n",
            "Observing a man on the verge of a breakdown kicking a seemingly indestructible patio chair, the narrator is struck by his outward display of aggression, a stark contrast to their own tendency to internalize frustration. The narrator recalls their stress-relieving gardening, a hobby no longer possible since moving to Boston. They even consider buying a similar resilient chair as an outlet. The man eventually stops kicking, his large biceps now noticeable as he lights a joint, a behavior the narrator doesn't judge.\n",
            "The narrator observes a man on a patio who appears distressed and violently kicks a sturdy marine-grade polymer chair repeatedly. Impressed by the chair's resilience, the narrator reflects on their own lack of healthy outlets for stress since moving to Boston and losing their garden. They briefly consider buying a similar chair. The man eventually stops kicking, his posture changes, and he lights a joint. The narrator, a college-educated twenty-three-year-old, refrains from judgment.\n",
            "A person smoking a joint on a ledge is surprised by Lily. He observes her intently, his expression unreadable. He asks her name, and his deep voice resonates within her. Lily responds softly. He then asks her to get down, his posture becoming rigid, seemingly concerned for her safety. Lily declines, stating her comfort. He insists, and Lily points out the empty chairs, referencing his earlier actions. Undeterred by her lack of compliance, he moves closer, emphasizing the danger of her position, given his recent experiences with death.\n",
            "A person smoking a joint on a ledge is surprised by Lily's presence. He observes her intently, his expression unreadable. He asks her name, and his deep voice resonates within her. Lily reluctantly answers. He then asks her to get down, his posture becoming rigid, seemingly concerned for her safety. Lily declines, stating she is comfortable. He insists, and Lily sarcastically points out the damaged chair nearby. Undeterred, he moves closer, emphasizing the danger of her position, having witnessed enough death for one day, and again urges her to come down.\n",
            "The narrator, perched precariously on a ledge, is asked to come down by a beautiful, well-dressed man who seems annoyed and high. She complies, intrigued by his presence and the fact that someone like him is even noticing her. He offers her a hit from his joint, which she declines. Curious about his earlier outburst, she asks what upset him and then jokingly inquires if it was a woman who broke his heart. He dismisses her question as trivial and then unexpectedly asks what floor she lives on.\n",
            "The narrator, after being told she's making someone nervous and ruining their high, moves from a ledge. She observes the attractive and well-off man, noting his expensive casual attire. He approaches her, offers her his joint which she declines, and then stares intently at her after she asks about what angered him. Ignoring her question about a woman, he asks her what floor she lives on.\n",
            "A woman encounters a man on a rooftop patio. She explains she doesn't live there but found the spot on Google Earth for fresh air and thinking. The man makes a casual remark about her being economical. When he asks why she needed fresh air, she avoids the painful truth of her father's burial that day and requests silence. Breaking the silence, the man mentions someone fell off the roof recently, piquing her interest.\n",
            "A woman encounters a man on a rooftop patio. She explains she doesn't live there but found the spot on Google Earth for fresh air and thinking. He asks if her boyfriend lives there, which she finds a cheap pickup line. She compliments his roof. He finds her reason for being there economical. She silently reflects on burying her father and a disastrous eulogy. She asks for silence, which he seems to welcome. After a period of quiet, he mentions a man fell off the roof the previous month, piquing her interest.\n",
            "A photographer fell from the ledge while trying to capture the sunset. The narrator, who was also recently on the same ledge, wonders about the accident. The photographer's brother hopes his camera survived the fall, even if he didn't get the final shot. He admits he doesn't usually speak his mind, which the narrator finds appealing. They discover they are both not originally from Boston. He describes Boston as a purgatory where tourists and locals don't fully accept newcomers. He moved there for his residency, and his sister lives in the penthouse below.\n",
            "A photographer fell off the ledge of the building while trying to capture a sunset shot. The narrator reflects on their own recent risky behavior on the same ledge. The man who told her about the photographer hoped the camera survived, even if the photographer didn't get the final shot. He admits he doesn't usually say what's on his mind to most people, which the narrator finds appealing. They discover they are both not originally from Boston. He describes the city as \"purgatory\" for newcomers, where they don't quite fit in as either tourists or locals. He moved to Boston for his residency, and his sister lives with her husband on the floor below.\n",
            "A man on a ledge, a neurosurgeon in his final year of residency, admits to occasionally smoking weed to cope with the stress of his profession. He seems less intimidating with his eyes closed, enjoying the wind. The narrator then shares a local secret about a house built on the roof of a building with a green roof, a detail discovered through Google Earth. They discuss the unique appeal of such a residence and the mystery surrounding who lives there. The narrator then playfully points out the neurosurgeon's name as another Boston mystery.\n",
            "A conversation unfolds between two individuals. One mentions a \"lucky bastard\" working from home and earning a high income. The other reveals he is a neurosurgery resident with less than a year left. They briefly discuss the idea of doctors smoking marijuana as a stress reliever. The first person then shares a local secret about a house built on top of a building in Boston, sparking the other's interest. When asked for another Boston mystery, the first person jokingly replies, \"Your name,\" immediately regretting the cheesy pickup line.\n",
            "Ryle introduces himself, but Lily expresses her dislike for her own name, Lily Bloom. She feels it sounds childish, especially with her passion for gardening and her dream of opening a flower shop. She worries people won't take her seriously. Despite her business degree and marketing job, Ryle suggests owning a business isn't a downgrade. When he asks for her middle name, Lily groans, revealing it's Blossom, making her full name Lily Blossom Bloom, which Ryle acknowledges with a soft \"Goddamn.\"\n",
            "Ryle introduces himself, and Lily expresses her envy for his name, explaining her dislike for her own name, Lily Bloom. She feels it sounds childish and worries it would undermine her dream of opening a flower shop, given her passion for gardening. Despite having a business degree and a marketing job, she secretly longs for her dream. When Ryle asks for her middle name, she reveals it's Blossom, compounding her floral-themed name and eliciting a surprised reaction from him.\n",
            "The narrator reveals her father died, surprising the other person who initially thought it was a lie. She explains she came to cry, admitting a complex relationship with her father, loving him as a daughter but hating him as a person. The other person appreciates her honesty and wonders if people were more transparent, feeling everyone hides their flaws. The narrator counters that being guarded isn't negative, as \"naked truths\" aren't always pretty. He likes that phrase and asks her to share a \"naked truth\" about herself.\n",
            "The narrator tells someone that their father died, which the other person initially doesn't believe. The narrator clarifies they came to cry. The other person, intrigued by the honesty when the narrator admits loving their father as a daughter but hating him as a person, expresses appreciation for the honesty. They discuss the idea of people being more transparent, feeling everyone hides their flaws. The narrator counters that being guarded isn't always negative, as \"naked truths\" aren't always pretty. The other person likes this phrase and then asks the narrator to share a \"naked truth.\"\n",
            "Lily reveals her complicated childhood, admitting she looked forward to her parents' fights because of the subsequent periods of reconciliation and gifts, realizing later her inaction made her feel complicit in her father's abuse towards her mother. Ryle counters by stating that people aren't inherently bad, they just do bad things. He then shares his own trauma from his work, witnessing the accidental death of a five-year-old boy.\n",
            "Lily shares a painful childhood memory of her abusive father, admitting she even looked forward to the fights because of the subsequent good behavior. She grapples with her feelings of guilt for not intervening. Ryle counters her thought, stating that people aren't inherently bad, they just do bad things. He then somberly reveals that he witnessed the accidental death of a five-year-old boy that night, a tragedy that deeply affects him.\n",
            "The narrator recounts a doctor's chilling reaction to informing parents about their child's death from a gunshot wound, revealing the doctor's anger at their negligence. This prompts the narrator to reflect on the surviving sibling's trauma. Ryle agrees on the lasting impact of such events. The conversation shifts as the narrator shares their own recent \"twisted\" act: lying to their mother about being unable to deliver their unrespected father's eulogy, which they ultimately did. Ryle expresses interest in hearing the eulogy.\n",
            "The narrator recounts a doctor's reaction to a child's death from a gunshot wound, highlighting the doctor's lack of sympathy for the parents due to their negligence. The narrator then expresses sympathy for the surviving brother. Ryle agrees on the lasting impact of such trauma. The conversation shifts as the narrator shares their own \"twisted\" act: lying to their mother about being too emotional to deliver their father's eulogy, admitting they didn't respect him. Ryle expresses interest in hearing the eulogy. The narrator begins to share what happened.\n",
            "Lily recounts giving an \"anti-eulogy\" at her father's funeral. Instead of sharing five great things as her mother suggested, Lily stood silently at the podium for two minutes because she couldn't think of anything positive to say about him. Her mother eventually had her uncle remove her. Ryle is surprised and amused by this, calling her his hero for \"roasting a dead guy.\" Lily finds it tacky, but acknowledges the \"naked truth.\" She then prompts Ryle to share his most recent thought.\n",
            "Lily recounts giving an \"anti-eulogy\" at her father's funeral. Instructed by her mother to share five great things about him, Lily stood at the podium and remained silent for two minutes because she couldn't think of anything positive to say. Her mother eventually had her removed. Ryle, listening to this story, expresses his shock and admiration for her unconventional act. Lily admits she's not proud of it but wishes her father had been a better person so she could have honored him properly.\n",
            "The conversation takes a sudden turn when the man admits his immediate thought is wanting to sleep with the woman. Though she's taken aback, she recovers and shares a surprising personal story about her first sexual experience being with a homeless young man named Atlas she befriended in her childhood. She reveals her father's violent reaction to their friendship. The man acknowledges the unspoken depth of her story before stating his strong aversion to marriage.\n",
            "The narrator and a neurosurgeon are having a conversation where they share their most recent thoughts. The neurosurgeon shocks the narrator by stating his desire to sleep with her if she were interested in a one-night stand. Taken aback, the narrator reveals that the first person she slept with was a homeless man named Atlas she befriended as a child in Maine. She used to help him until her father found out and beat him up. The neurosurgeon, sensing there's more to the story, then shares that the thought of marriage repulses him.\n",
            "The conversation explores contrasting views on relationships and ambition. One character, a neurosurgeon, prioritizes professional success above all else, admitting his arrogance and asserting he's too selfish for marriage or children. He finds fulfillment in his demanding career and opts for casual encounters. The other character envies his detachment from love, admitting to a frustrating, idealistic search for a \"perfect man\" and an inability to engage in casual relationships.\n",
            "Ryle expresses his strong desire for professional success as a neurosurgeon, prioritizing it over marriage and children, which he views as easily attainable by anyone. He acknowledges this ambition might sound arrogant. He believes his potential children wouldn't meet his high drive, setting them up for failure, reinforcing his decision to remain childless and avoid relationships, admitting to being too selfish for both. Lily envies his detached view of love, contrasting it with her own search for a perfect partner and her tendency to become easily jaded. Ryle suggests one-night stands as his method, an idea Lily immediately rejects, stating she needs a deeper connection.\n",
            "The narrator and a man are having a conversation that hints at a potential romantic or sexual encounter. The man expresses slight disappointment when the narrator implies she doesn't sleep with people she just met. He then directly asks how far she would go. The narrator admits she doesn't know, contemplating the idea of a one-night stand with him, something she hasn't considered before. He physically moves closer, making her feel his warmth. He asks again how far she would go, his touch and voice affecting her. His hand moves under her shirt, and their eyes meet, leaving the question of what will happen next unanswered.\n",
            "The narrator and a man are having a charged conversation about relationships and physical intimacy. The man expresses slight disappointment when the narrator implies she doesn't sleep with people she just met. He then asks how far she would go. The narrator admits she doesn't know, finding herself reconsidering one-night stands with him. He moves his chair closer, creating palpable tension. He places his hand on her stomach and repeats his question, his touch and gaze captivating her as he begins to lift her shirt. He asks if he's going too far.\n",
            "An intimate moment between Lily Bloom and Dr. Kincaid is interrupted by his phone call summoning him to work. Before leaving, Dr. Kincaid takes a picture of Lily as she lies in a lounge chair, stating he wants to remember her even though he believes they won't meet again. Lily is left feeling a mix of sadness and confusion by their encounter and his gesture.\n",
            "The encounter between Lily and a man is interrupted by a phone call. The man, a \"Dr. Kincaid,\" seems to be unexpectedly called into work. Despite the interruption, he pauses to take a picture of Lily, saying he wants to remember her. Lily is both touched and confused by his actions and his hopeful parting words about her dreams. She considers taking his picture but decides against having a reminder of someone she won't see again.\n",
            "The narrator reflects on a brief encounter with someone from a vastly different background and is surprised by their common ground. The other person seems hesitant to leave, a hint of disappointment visible before they finally depart. Left alone again, the narrator finds themselves unexpectedly saddened by their absence.\n",
            "The narrator reflects on a brief encounter with someone from a vastly different background and is surprised by their common ground. The other person seems hesitant to leave, a hint of disappointment visible before they finally depart. The narrator, now alone again, unexpectedly feels a touch of sadness.\n",
            "Lily is home on bereavement leave after her father's funeral. Her roommate, Lucy, rushes out, mentioning she won't be home that night. Lily reflects on their superficial similarities and her tolerance of Lucy, aside from the singing. Her mother calls, surprisingly soon after the funeral, leading to a strained \"Hello.\" Lily is clearly not expecting or perhaps not wanting to hear from her mother so quickly after the loss.\n",
            "Lily is at home on bereavement leave after her father's funeral. Her roommate, Lucy, rushes out, mentioning she won't be home that night. Lily reflects on their superficial similarities and her contentment with their roommate dynamic. Her mother calls, which surprises Lily, as it's so soon after the funeral and their relationship seems strained.\n",
            "The text describes a phone call between Lily and her mother. The mother expresses anxiety about being alone and then addresses Lily's behavior from the previous day, attributing her silence to freezing up. Lily internally knows her silence was deliberate, stemming from negative feelings about her father, but she agrees with her mother's interpretation to avoid conflict. After the call, Lily finds old diaries labeled \"My Ellen Diaries\" in a shoebox, evoking a mix of anticipation and reluctance.\n",
            "Lily and her mother have a brief phone conversation where her mother expresses concern that Lily might be embarrassed about something that happened the previous day. Lily knows she wasn't embarrassed but goes along with her mother's assumption that she \"froze up.\" Lily feels guilty for her actions, specifically because they occurred in front of her mother. After the call, Lily looks through a shoebox filled with mementos and finds her old diaries, which she hasn't read in years.\n"
          ]
        },
        {
          "output_type": "error",
          "ename": "Exception",
          "evalue": "Response status code is not 200. Response Status is 429",
          "traceback": [
            "\u001b[0;31m---------------------------------------------------------------------------\u001b[0m",
            "\u001b[0;31mException\u001b[0m                                 Traceback (most recent call last)",
            "\u001b[0;32m<ipython-input-50-02e64db287c7>\u001b[0m in \u001b[0;36m<cell line: 0>\u001b[0;34m()\u001b[0m\n\u001b[1;32m     10\u001b[0m   \u001b[0;32mtry\u001b[0m\u001b[0;34m:\u001b[0m\u001b[0;34m\u001b[0m\u001b[0;34m\u001b[0m\u001b[0m\n\u001b[0;32m---> 11\u001b[0;31m     \u001b[0mresponse\u001b[0m \u001b[0;34m=\u001b[0m \u001b[0mget_completion\u001b[0m\u001b[0;34m(\u001b[0m\u001b[0mprompt\u001b[0m\u001b[0;34m)\u001b[0m\u001b[0;34m\u001b[0m\u001b[0;34m\u001b[0m\u001b[0m\n\u001b[0m\u001b[1;32m     12\u001b[0m   \u001b[0;32mexcept\u001b[0m\u001b[0;34m:\u001b[0m\u001b[0;34m\u001b[0m\u001b[0;34m\u001b[0m\u001b[0m\n",
            "\u001b[0;32m<ipython-input-41-2d92411b17e5>\u001b[0m in \u001b[0;36mget_completion\u001b[0;34m(prompt)\u001b[0m\n\u001b[1;32m      1\u001b[0m \u001b[0;32mdef\u001b[0m \u001b[0mget_completion\u001b[0m\u001b[0;34m(\u001b[0m\u001b[0mprompt\u001b[0m\u001b[0;34m)\u001b[0m\u001b[0;34m:\u001b[0m\u001b[0;34m\u001b[0m\u001b[0;34m\u001b[0m\u001b[0m\n\u001b[0;32m----> 2\u001b[0;31m   \u001b[0mresponse\u001b[0m \u001b[0;34m=\u001b[0m \u001b[0mBard\u001b[0m\u001b[0;34m(\u001b[0m\u001b[0;34m)\u001b[0m\u001b[0;34m.\u001b[0m\u001b[0mget_answer\u001b[0m\u001b[0;34m(\u001b[0m\u001b[0mprompt\u001b[0m\u001b[0;34m)\u001b[0m\u001b[0;34m[\u001b[0m\u001b[0;34m'content'\u001b[0m\u001b[0;34m]\u001b[0m\u001b[0;34m\u001b[0m\u001b[0;34m\u001b[0m\u001b[0m\n\u001b[0m\u001b[1;32m      3\u001b[0m   \u001b[0;32mreturn\u001b[0m \u001b[0mresponse\u001b[0m\u001b[0;34m\u001b[0m\u001b[0;34m\u001b[0m\u001b[0m\n",
            "\u001b[0;32m/usr/local/lib/python3.11/dist-packages/bardapi/core.py\u001b[0m in \u001b[0;36m__init__\u001b[0;34m(self, token, timeout, proxies, session, conversation_id, google_translator_api_key, language, run_code, token_from_browser, multi_cookies_bool, cookie_dict)\u001b[0m\n\u001b[1;32m     83\u001b[0m         \u001b[0mself\u001b[0m\u001b[0;34m.\u001b[0m\u001b[0msession\u001b[0m \u001b[0;34m=\u001b[0m \u001b[0mself\u001b[0m\u001b[0;34m.\u001b[0m\u001b[0m_get_session\u001b[0m\u001b[0;34m(\u001b[0m\u001b[0msession\u001b[0m\u001b[0;34m)\u001b[0m\u001b[0;34m\u001b[0m\u001b[0;34m\u001b[0m\u001b[0m\n\u001b[0;32m---> 84\u001b[0;31m         \u001b[0mself\u001b[0m\u001b[0;34m.\u001b[0m\u001b[0mSNlM0e\u001b[0m \u001b[0;34m=\u001b[0m \u001b[0mself\u001b[0m\u001b[0;34m.\u001b[0m\u001b[0m_get_snim0e\u001b[0m\u001b[0;34m(\u001b[0m\u001b[0;34m)\u001b[0m\u001b[0;34m\u001b[0m\u001b[0;34m\u001b[0m\u001b[0m\n\u001b[0m\u001b[1;32m     85\u001b[0m         \u001b[0mself\u001b[0m\u001b[0;34m.\u001b[0m\u001b[0mlanguage\u001b[0m \u001b[0;34m=\u001b[0m \u001b[0mlanguage\u001b[0m \u001b[0;32mor\u001b[0m \u001b[0mos\u001b[0m\u001b[0;34m.\u001b[0m\u001b[0mgetenv\u001b[0m\u001b[0;34m(\u001b[0m\u001b[0;34m\"_BARD_API_LANG\"\u001b[0m\u001b[0;34m)\u001b[0m\u001b[0;34m\u001b[0m\u001b[0;34m\u001b[0m\u001b[0m\n",
            "\u001b[0;32m/usr/local/lib/python3.11/dist-packages/bardapi/core.py\u001b[0m in \u001b[0;36m_get_snim0e\u001b[0;34m(self)\u001b[0m\n\u001b[1;32m    179\u001b[0m         \u001b[0;32mif\u001b[0m \u001b[0mresponse\u001b[0m\u001b[0;34m.\u001b[0m\u001b[0mstatus_code\u001b[0m \u001b[0;34m!=\u001b[0m \u001b[0;36m200\u001b[0m\u001b[0;34m:\u001b[0m\u001b[0;34m\u001b[0m\u001b[0;34m\u001b[0m\u001b[0m\n\u001b[0;32m--> 180\u001b[0;31m             raise Exception(\n\u001b[0m\u001b[1;32m    181\u001b[0m                 \u001b[0;34mf\"Response status code is not 200. Response Status is {response.status_code}\"\u001b[0m\u001b[0;34m\u001b[0m\u001b[0;34m\u001b[0m\u001b[0m\n",
            "\u001b[0;31mException\u001b[0m: Response status code is not 200. Response Status is 429",
            "\nDuring handling of the above exception, another exception occurred:\n",
            "\u001b[0;31mException\u001b[0m                                 Traceback (most recent call last)",
            "\u001b[0;32m<ipython-input-50-02e64db287c7>\u001b[0m in \u001b[0;36m<cell line: 0>\u001b[0;34m()\u001b[0m\n\u001b[1;32m     11\u001b[0m     \u001b[0mresponse\u001b[0m \u001b[0;34m=\u001b[0m \u001b[0mget_completion\u001b[0m\u001b[0;34m(\u001b[0m\u001b[0mprompt\u001b[0m\u001b[0;34m)\u001b[0m\u001b[0;34m\u001b[0m\u001b[0;34m\u001b[0m\u001b[0m\n\u001b[1;32m     12\u001b[0m   \u001b[0;32mexcept\u001b[0m\u001b[0;34m:\u001b[0m\u001b[0;34m\u001b[0m\u001b[0;34m\u001b[0m\u001b[0m\n\u001b[0;32m---> 13\u001b[0;31m     \u001b[0mresponse\u001b[0m \u001b[0;34m=\u001b[0m \u001b[0mget_completion\u001b[0m\u001b[0;34m(\u001b[0m\u001b[0mprompt\u001b[0m\u001b[0;34m)\u001b[0m\u001b[0;34m\u001b[0m\u001b[0;34m\u001b[0m\u001b[0m\n\u001b[0m\u001b[1;32m     14\u001b[0m \u001b[0;34m\u001b[0m\u001b[0m\n\u001b[1;32m     15\u001b[0m   \u001b[0mprint\u001b[0m\u001b[0;34m(\u001b[0m\u001b[0mresponse\u001b[0m\u001b[0;34m)\u001b[0m\u001b[0;34m\u001b[0m\u001b[0;34m\u001b[0m\u001b[0m\n",
            "\u001b[0;32m<ipython-input-41-2d92411b17e5>\u001b[0m in \u001b[0;36mget_completion\u001b[0;34m(prompt)\u001b[0m\n\u001b[1;32m      1\u001b[0m \u001b[0;32mdef\u001b[0m \u001b[0mget_completion\u001b[0m\u001b[0;34m(\u001b[0m\u001b[0mprompt\u001b[0m\u001b[0;34m)\u001b[0m\u001b[0;34m:\u001b[0m\u001b[0;34m\u001b[0m\u001b[0;34m\u001b[0m\u001b[0m\n\u001b[0;32m----> 2\u001b[0;31m   \u001b[0mresponse\u001b[0m \u001b[0;34m=\u001b[0m \u001b[0mBard\u001b[0m\u001b[0;34m(\u001b[0m\u001b[0;34m)\u001b[0m\u001b[0;34m.\u001b[0m\u001b[0mget_answer\u001b[0m\u001b[0;34m(\u001b[0m\u001b[0mprompt\u001b[0m\u001b[0;34m)\u001b[0m\u001b[0;34m[\u001b[0m\u001b[0;34m'content'\u001b[0m\u001b[0;34m]\u001b[0m\u001b[0;34m\u001b[0m\u001b[0;34m\u001b[0m\u001b[0m\n\u001b[0m\u001b[1;32m      3\u001b[0m   \u001b[0;32mreturn\u001b[0m \u001b[0mresponse\u001b[0m\u001b[0;34m\u001b[0m\u001b[0;34m\u001b[0m\u001b[0m\n",
            "\u001b[0;32m/usr/local/lib/python3.11/dist-packages/bardapi/core.py\u001b[0m in \u001b[0;36m__init__\u001b[0;34m(self, token, timeout, proxies, session, conversation_id, google_translator_api_key, language, run_code, token_from_browser, multi_cookies_bool, cookie_dict)\u001b[0m\n\u001b[1;32m     82\u001b[0m         \u001b[0mself\u001b[0m\u001b[0;34m.\u001b[0m\u001b[0mchoice_id\u001b[0m \u001b[0;34m=\u001b[0m \u001b[0;34m\"\"\u001b[0m\u001b[0;34m\u001b[0m\u001b[0;34m\u001b[0m\u001b[0m\n\u001b[1;32m     83\u001b[0m         \u001b[0mself\u001b[0m\u001b[0;34m.\u001b[0m\u001b[0msession\u001b[0m \u001b[0;34m=\u001b[0m \u001b[0mself\u001b[0m\u001b[0;34m.\u001b[0m\u001b[0m_get_session\u001b[0m\u001b[0;34m(\u001b[0m\u001b[0msession\u001b[0m\u001b[0;34m)\u001b[0m\u001b[0;34m\u001b[0m\u001b[0;34m\u001b[0m\u001b[0m\n\u001b[0;32m---> 84\u001b[0;31m         \u001b[0mself\u001b[0m\u001b[0;34m.\u001b[0m\u001b[0mSNlM0e\u001b[0m \u001b[0;34m=\u001b[0m \u001b[0mself\u001b[0m\u001b[0;34m.\u001b[0m\u001b[0m_get_snim0e\u001b[0m\u001b[0;34m(\u001b[0m\u001b[0;34m)\u001b[0m\u001b[0;34m\u001b[0m\u001b[0;34m\u001b[0m\u001b[0m\n\u001b[0m\u001b[1;32m     85\u001b[0m         \u001b[0mself\u001b[0m\u001b[0;34m.\u001b[0m\u001b[0mlanguage\u001b[0m \u001b[0;34m=\u001b[0m \u001b[0mlanguage\u001b[0m \u001b[0;32mor\u001b[0m \u001b[0mos\u001b[0m\u001b[0;34m.\u001b[0m\u001b[0mgetenv\u001b[0m\u001b[0;34m(\u001b[0m\u001b[0;34m\"_BARD_API_LANG\"\u001b[0m\u001b[0;34m)\u001b[0m\u001b[0;34m\u001b[0m\u001b[0;34m\u001b[0m\u001b[0m\n\u001b[1;32m     86\u001b[0m         \u001b[0mself\u001b[0m\u001b[0;34m.\u001b[0m\u001b[0mrun_code\u001b[0m \u001b[0;34m=\u001b[0m \u001b[0mrun_code\u001b[0m\u001b[0;34m\u001b[0m\u001b[0;34m\u001b[0m\u001b[0m\n",
            "\u001b[0;32m/usr/local/lib/python3.11/dist-packages/bardapi/core.py\u001b[0m in \u001b[0;36m_get_snim0e\u001b[0;34m(self)\u001b[0m\n\u001b[1;32m    178\u001b[0m         )\n\u001b[1;32m    179\u001b[0m         \u001b[0;32mif\u001b[0m \u001b[0mresponse\u001b[0m\u001b[0;34m.\u001b[0m\u001b[0mstatus_code\u001b[0m \u001b[0;34m!=\u001b[0m \u001b[0;36m200\u001b[0m\u001b[0;34m:\u001b[0m\u001b[0;34m\u001b[0m\u001b[0;34m\u001b[0m\u001b[0m\n\u001b[0;32m--> 180\u001b[0;31m             raise Exception(\n\u001b[0m\u001b[1;32m    181\u001b[0m                 \u001b[0;34mf\"Response status code is not 200. Response Status is {response.status_code}\"\u001b[0m\u001b[0;34m\u001b[0m\u001b[0;34m\u001b[0m\u001b[0m\n\u001b[1;32m    182\u001b[0m             )\n",
            "\u001b[0;31mException\u001b[0m: Response status code is not 200. Response Status is 429"
          ]
        }
      ]
    },
    {
      "cell_type": "code",
      "source": [
        "with open(directory + 'bard_summary.txt', 'w') as out:\n",
        "    out.write(summary)"
      ],
      "metadata": {
        "id": "AU9bsYcTiDKW"
      },
      "execution_count": 49,
      "outputs": []
    }
  ]
}